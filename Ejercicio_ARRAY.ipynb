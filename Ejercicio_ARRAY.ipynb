{
  "nbformat": 4,
  "nbformat_minor": 0,
  "metadata": {
    "colab": {
      "name": "Ejercicio_ARRAY",
      "provenance": [],
      "collapsed_sections": []
    },
    "kernelspec": {
      "name": "python3",
      "display_name": "Python 3"
    },
    "language_info": {
      "name": "python"
    }
  },
  "cells": [
    {
      "cell_type": "code",
      "metadata": {
        "id": "QKQhCtqjlN0c"
      },
      "source": [
        "!cat junio.dat"
      ],
      "execution_count": null,
      "outputs": []
    },
    {
      "cell_type": "code",
      "metadata": {
        "id": "k5jWP_qXm_Qv"
      },
      "source": [
        "archivo = open('junio.dat' , 'rt', encoding = 'latin-1')\n",
        "print(archivo.read())"
      ],
      "execution_count": null,
      "outputs": []
    },
    {
      "cell_type": "code",
      "metadata": {
        "id": "FMiVJZYtn5FE"
      },
      "source": [
        "class Trabajador:\n",
        "    def __init__(self,nt,nom,pat,mat,he,sb,ai):\n",
        "        self.__numero_trabajador = nt\n",
        "        #Asi para todos los atributos.\n",
        "\n",
        "    #Aqui van todos los metodos de acceso.\n",
        "    def set_numero_trabajador(self, nt):\n",
        "        self.__numero_trabajador = nt\n",
        "\n",
        "\n",
        "    #metodos de uso general --> metodos de logica.\n"
      ],
      "execution_count": 16,
      "outputs": []
    },
    {
      "cell_type": "code",
      "metadata": {
        "id": "X3F3DgpKqBMx"
      },
      "source": [
        "class Nomina:\n",
        "    def __init__( self, ruta_archivo ):\n",
        "        # Abrir el archivo y determinar el numero de empleados --> num_emp\n",
        "        self.__data = Array (num_emp)\n",
        "\n",
        "    def calcular_sueldos(self):\n",
        "        #Iterar sobre el Array y hacer el calculo de sueldos\n",
        "\n",
        "    def buscar_mas_antiguo(self):\n",
        "        #Iterar y buscara en el array el de mayor antiguedad en el puesto\n",
        "\n",
        "    def buscar_menor_antiguedad(self): \n",
        "        #Iterar y buscar en el array el de menor antiguedad en el puesto"
      ],
      "execution_count": 17,
      "outputs": []
    }
  ]
}